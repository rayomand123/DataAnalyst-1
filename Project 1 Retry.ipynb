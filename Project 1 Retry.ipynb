{
 "cells": [
  {
   "cell_type": "markdown",
   "metadata": {},
   "source": [
    "# Data analysis for a company that builds Android and iOS mobile apps.\n",
    "The Goal for this project is to analyze data to help the developers understand what type of apps are likely to attract more users.\n",
    "\n",
    "\"We only build apps that are free to download and install, and our main source of revenue consists of in-app ads. This means that the number of users of our apps determines our revenue for any given app — the more users who see and engage with the ads, the better\""
   ]
  },
  {
   "cell_type": "code",
   "execution_count": 20,
   "metadata": {},
   "outputs": [],
   "source": [
    "from csv import reader\n",
    "\n",
    "def explore_data(dataset, start, end, rows_and_columns=False):\n",
    "    dataset_slice = dataset[start:end]    \n",
    "    for row in dataset_slice:\n",
    "        print(row)\n",
    "        \n",
    "\n",
    "    if rows_and_columns:\n",
    "        print('Number of rows:', len(dataset))\n",
    "        print('Number of columns:', len(dataset[0]))\n",
    "\n",
    "def list_of_lists(fname):\n",
    "    fopen =  open(fname,'r',encoding='utf-8') \n",
    "    # The \"error\" is e.g. in your open function: you do not specify the encoding, so python (just in windows) will use some system encoding. \n",
    "    # In general, if you read a file that maybe was not create in the same machine, it is really better to specify the encoding.\n",
    "    fread = reader(fopen)\n",
    "    return (list(fread))\n",
    "\n",
    "google_data = list_of_lists('C:/Users/rraimalwalla/Documents/Data Analyst/googleplaystore.csv') #https://www.kaggle.com/datasets/lava18/google-play-store-apps\n",
    "apple_data = list_of_lists('C:/Users/rraimalwalla/Documents/Data Analyst/AppleStore.csv')#https://www.kaggle.com/datasets/ramamet4/app-store-apple-data-set-10k-apps\n",
    "\n"
   ]
  },
  {
   "cell_type": "code",
   "execution_count": 21,
   "metadata": {},
   "outputs": [
    {
     "name": "stdout",
     "output_type": "stream",
     "text": [
      "['App', 'Category', 'Rating', 'Reviews', 'Size', 'Installs', 'Type', 'Price', 'Content Rating', 'Genres', 'Last Updated', 'Current Ver', 'Android Ver']\n",
      "['Photo Editor & Candy Camera & Grid & ScrapBook', 'ART_AND_DESIGN', '4.1', '159', '19M', '10,000+', 'Free', '0', 'Everyone', 'Art & Design', 'January 7, 2018', '1.0.0', '4.0.3 and up']\n",
      "['Coloring book moana', 'ART_AND_DESIGN', '3.9', '967', '14M', '500,000+', 'Free', '0', 'Everyone', 'Art & Design;Pretend Play', 'January 15, 2018', '2.0.0', '4.0.3 and up']\n",
      "['U Launcher Lite – FREE Live Cool Themes, Hide Apps', 'ART_AND_DESIGN', '4.7', '87510', '8.7M', '5,000,000+', 'Free', '0', 'Everyone', 'Art & Design', 'August 1, 2018', '1.2.4', '4.0.3 and up']\n",
      "['Sketch - Draw & Paint', 'ART_AND_DESIGN', '4.5', '215644', '25M', '50,000,000+', 'Free', '0', 'Teen', 'Art & Design', 'June 8, 2018', 'Varies with device', '4.2 and up']\n",
      "-----------------------------\n",
      "['id', 'track_name', 'size_bytes', 'currency', 'price', 'rating_count_tot', 'rating_count_ver', 'user_rating', 'user_rating_ver', 'ver', 'cont_rating', 'prime_genre', 'sup_devices.num', 'ipadSc_urls.num', 'lang.num', 'vpp_lic']\n",
      "['284882215', 'Facebook', '389879808', 'USD', '0.0', '2974676', '212', '3.5', '3.5', '95.0', '4+', 'Social Networking', '37', '1', '29', '1']\n",
      "['389801252', 'Instagram', '113954816', 'USD', '0.0', '2161558', '1289', '4.5', '4.0', '10.23', '12+', 'Photo & Video', '37', '0', '29', '1']\n",
      "['529479190', 'Clash of Clans', '116476928', 'USD', '0.0', '2130805', '579', '4.5', '4.5', '9.24.12', '9+', 'Games', '38', '5', '18', '1']\n",
      "['420009108', 'Temple Run', '65921024', 'USD', '0.0', '1724546', '3842', '4.5', '4.0', '1.6.2', '9+', 'Games', '40', '5', '1', '1']\n"
     ]
    }
   ],
   "source": [
    "explore_data(google_data,0,5)\n",
    "print(\"-----------------------------\")\n",
    "explore_data(apple_data,0,5)\n"
   ]
  },
  {
   "cell_type": "markdown",
   "metadata": {},
   "source": [
    "Deleting a row form the Google Datase that had missing data\n",
    "Below is a function to detect if there is missing data by comparing the lenght of each row to the lenght of the header of the dataset"
   ]
  },
  {
   "cell_type": "code",
   "execution_count": null,
   "metadata": {},
   "outputs": [],
   "source": [
    "\n",
    "# def Data_size(google_data):\n",
    "#     gheader = len(google_data[0])\n",
    "#     for x in google_data[1:9]:\n",
    "#         if len(x) != gheader:\n",
    "#             print(google_data.index(x))\n",
    "# del google_data[10473]"
   ]
  },
  {
   "cell_type": "markdown",
   "metadata": {},
   "source": [
    "Removing Duplicates from the Google DataSet with the below 4 cells :\n",
    "\n",
    "Cell 1 = A function to check if there are duplicates.\n",
    "\n",
    "Cell 2 = A function to get a count of Duplicate data.\n",
    "\n",
    "Cell 3 = To keep only 1 record per Application that has highest reviews.\n",
    "\n",
    "Cell 4 = To create a new google data set that has unique records for each application with the highest reviews."
   ]
  },
  {
   "cell_type": "code",
   "execution_count": 22,
   "metadata": {},
   "outputs": [
    {
     "name": "stdout",
     "output_type": "stream",
     "text": [
      "Duplicate Apps  1181\n",
      "Unique Apps  9660\n"
     ]
    }
   ],
   "source": [
    "#Cell 1\n",
    "duplicate_apps = []\n",
    "unique_apps = []\n",
    "\n",
    "for App in google_data[1:]:\n",
    "    if App[0] not in unique_apps:\n",
    "        unique_apps.append(App[0])\n",
    "    else:\n",
    "        duplicate_apps.append(App[0])\n",
    "\n",
    "print(\"Duplicate Apps \" , len(duplicate_apps))\n",
    "print(\"Unique Apps \",len(unique_apps))\n"
   ]
  },
  {
   "cell_type": "code",
   "execution_count": 23,
   "metadata": {},
   "outputs": [
    {
     "name": "stdout",
     "output_type": "stream",
     "text": [
      "Duplicate Apps  12022\n",
      "Unique Apps  9660\n"
     ]
    }
   ],
   "source": [
    "#Cell 2\n",
    "\n",
    "for App in google_data[1:]:\n",
    "    if App[0] not in unique_apps:\n",
    "        unique_apps.append(App[0])\n",
    "    else:\n",
    "        duplicate_apps.append(App[0])\n",
    "\n",
    "print(\"Duplicate Apps \" , len(duplicate_apps))\n",
    "print(\"Unique Apps \",len(unique_apps))\n"
   ]
  },
  {
   "cell_type": "code",
   "execution_count": 24,
   "metadata": {},
   "outputs": [],
   "source": [
    "#Cell 3\n",
    "reviews_max = {}\n",
    "for App in google_data[1:]:\n",
    "    name = App[0]\n",
    "    n_reviews = float(App[3].strip('M'))\n",
    "    if name not in reviews_max:\n",
    "        reviews_max[name] =  n_reviews\n",
    "    else:\n",
    "        if reviews_max[name] <  n_reviews : \n",
    "            reviews_max[name] =  n_reviews\n",
    "\n",
    "#print(len(reviews_max))\n"
   ]
  },
  {
   "cell_type": "code",
   "execution_count": 25,
   "metadata": {},
   "outputs": [],
   "source": [
    "#Cell 4\n",
    "google_clean = []\n",
    "google_alreadyAdded = []\n",
    "\n",
    "for App in google_data[1:]:\n",
    "     name = App[0]\n",
    "     n_reviews = float(App[3].strip('M'))\n",
    "     if n_reviews == reviews_max[name] and name not in google_alreadyAdded:\n",
    "        google_clean.append(App)\n",
    "        google_alreadyAdded.append(name)\n",
    "\n"
   ]
  },
  {
   "cell_type": "markdown",
   "metadata": {},
   "source": [
    "Further Data Cleaning is required to fetch data only for Apps that are \n",
    "\n",
    "1 free\n",
    "\n",
    "2 That have (<= 3) Non -English Characters "
   ]
  },
  {
   "cell_type": "markdown",
   "metadata": {},
   "source": [
    "------------------------------------------\n",
    "1 Value in the Google Clean Dataset in the price column was coming as a text = 'Everyone'; \n",
    "To correct it the contents in this cell were used to specifically detect that value and set it as zero\n",
    "\n",
    "```\n",
    "x = 0\n",
    "for i in google_clean:\n",
    "    if i[7]  == 'Everyone':\n",
    "        print(x)\n",
    "        break\n",
    "    x += 1\n",
    "\n",
    "google_clean[9294][7] = '0'\n",
    "```\n",
    "------------------------------------------------------"
   ]
  },
  {
   "cell_type": "code",
   "execution_count": 38,
   "metadata": {},
   "outputs": [
    {
     "name": "stdout",
     "output_type": "stream",
     "text": [
      "Google = 8864\n",
      "-----------------------------\n",
      "Apple = 3222\n"
     ]
    }
   ],
   "source": [
    "google_Eng_Free_Apps = []\n",
    "Apple_Eng_Free_Apps = []\n",
    "\n",
    "def Check_English_App_Names(AppName):\n",
    "    count = 0\n",
    "    for Character in AppName:           \n",
    "        if ord(Character) > 127 :\n",
    "            count += 1            \n",
    "            if count > 3:\n",
    "                return False\n",
    "    return True  \n",
    "\n",
    "def Process_DataSets(Dataset,NameIndex,PriceIndex):\n",
    "    result = []\n",
    "    for i in Dataset[1:]:\n",
    "        \n",
    "        cost = float(i[PriceIndex].strip('$'))\n",
    "        if Check_English_App_Names(i[NameIndex]) and  cost == 0.0:\n",
    "            result.append(i)\n",
    "    return result\n",
    "\n",
    "google_Eng_Free_Apps = Process_DataSets(google_clean,0,7)\n",
    "Apple_Eng_Free_Apps =  Process_DataSets(apple_data,1,4)\n",
    "print(\"Google =\",len(google_Eng_Free_Apps))\n",
    "print(\"-----------------------------\")\n",
    "print(\"Apple =\",len(Apple_Eng_Free_Apps))"
   ]
  },
  {
   "cell_type": "markdown",
   "metadata": {},
   "source": [
    "Create Frequency tables to visualize data "
   ]
  },
  {
   "cell_type": "code",
   "execution_count": 39,
   "metadata": {},
   "outputs": [],
   "source": [
    "def freq_table(dataset,index):\n",
    "    total_Values = 0\n",
    "    dict = {}\n",
    "    for i in dataset:\n",
    "        total_Values += 1\n",
    "        value = i[index]\n",
    "        if value in dict:\n",
    "            dict[value] += 1\n",
    "        else:\n",
    "            dict[value] = 1\n",
    "\n",
    "    \n",
    "\n",
    "    Freq_dict = {}\n",
    "    for key in dict:\n",
    "        Freq_dict[key] = (dict[key] / total_Values) * 100\n",
    "\n",
    "    return Freq_dict\n",
    "\n",
    "\n",
    "def display_table(dataset, index):\n",
    "    table = freq_table(dataset, index)\n",
    "    table_display = []\n",
    "    for key in table:\n",
    "        key_val_as_tuple = (table[key], key)\n",
    "        table_display.append(key_val_as_tuple)\n",
    "\n",
    "    table_sorted = sorted(table_display, reverse = True)\n",
    "    for entry in table_sorted:\n",
    "        print(entry[1], '        :  ', entry[0])   \n",
    "    return table"
   ]
  },
  {
   "cell_type": "code",
   "execution_count": null,
   "metadata": {},
   "outputs": [],
   "source": [
    "# Analyzing Category for Google Data\n",
    "display_table(google_Eng_Free_Apps, 1)\n",
    "\n",
    "#print (google_Eng_Free_Apps[:5])"
   ]
  },
  {
   "cell_type": "code",
   "execution_count": null,
   "metadata": {},
   "outputs": [],
   "source": [
    "# Analyzing Genre for Google Data\n",
    "display_table(google_Eng_Free_Apps, 9)"
   ]
  },
  {
   "cell_type": "code",
   "execution_count": 57,
   "metadata": {},
   "outputs": [
    {
     "name": "stdout",
     "output_type": "stream",
     "text": [
      "1724546.0\n"
     ]
    }
   ],
   "source": [
    "# Analyzing Genre for  Apple Data\n",
    "#display_table(Apple_Eng_Free_Apps, -5)\n",
    "print(float(Apple_Eng_Free_Apps[3][5]))"
   ]
  },
  {
   "cell_type": "markdown",
   "metadata": {},
   "source": [
    "Calculating Avergage number of installs for Apple Play Store"
   ]
  },
  {
   "cell_type": "code",
   "execution_count": null,
   "metadata": {},
   "outputs": [],
   "source": [
    "apple_prime_Genre= {}\n",
    "apple_prime_Genre = freq_table(Apple_Eng_Free_Apps,-5)\n",
    "apple_Genre_Installs = {}\n",
    "\n",
    "for i in apple_prime_Genre:\n",
    "    total = 0\n",
    "    len_genre  = 0\n",
    "    for j in Apple_Eng_Free_Apps:                           \n",
    "        if j[11] == i:                \n",
    "            total += float(j[5]) \n",
    "            len_genre += 1\n",
    "    print(i,\"  :  \",f\"{round(total / len_genre,2):,.2f}\")        "
   ]
  },
  {
   "cell_type": "markdown",
   "metadata": {},
   "source": [
    "Calculating Avergage number of installs for Google Play Store"
   ]
  },
  {
   "cell_type": "code",
   "execution_count": 82,
   "metadata": {},
   "outputs": [
    {
     "name": "stdout",
     "output_type": "stream",
     "text": [
      "Art & Design   :   2,163,482.69\n",
      "Art & Design;Creativity   :   285,000.00\n",
      "Auto & Vehicles   :   647,317.82\n",
      "Beauty   :   513,151.89\n",
      "Books & Reference   :   8,767,811.89\n",
      "Business   :   1,712,290.15\n",
      "Comics   :   831,873.15\n",
      "Comics;Creativity   :   50,000.00\n",
      "Communication   :   38,456,119.17\n",
      "Dating   :   854,028.83\n",
      "Education   :   550,185.44\n",
      "Education;Creativity   :   2,875,000.00\n",
      "Education;Education   :   4,759,517.00\n",
      "Education;Pretend Play   :   1,800,000.00\n",
      "Education;Brain Games   :   5,333,333.33\n",
      "Entertainment   :   5,602,792.78\n",
      "Entertainment;Brain Games   :   3,314,285.71\n",
      "Entertainment;Creativity   :   4,000,000.00\n",
      "Entertainment;Music & Video   :   6,413,333.33\n",
      "Events   :   253,542.22\n",
      "Finance   :   1,387,692.48\n",
      "Food & Drink   :   1,924,897.74\n",
      "Health & Fitness   :   4,188,821.99\n",
      "House & Home   :   1,331,540.56\n",
      "Libraries & Demo   :   638,503.73\n",
      "Lifestyle   :   1,412,998.34\n",
      "Lifestyle;Pretend Play   :   10,000,000.00\n",
      "Card   :   3,815,462.50\n",
      "Arcade   :   22,888,365.49\n",
      "Puzzle   :   8,302,861.91\n",
      "Racing   :   15,910,645.68\n",
      "Sports   :   4,596,842.62\n",
      "Casual   :   19,569,221.60\n",
      "Simulation   :   3,475,484.09\n",
      "Adventure   :   4,922,785.33\n",
      "Trivia   :   3,475,712.70\n",
      "Action   :   12,603,588.87\n",
      "Word   :   9,094,458.70\n",
      "Role Playing   :   3,965,645.42\n",
      "Strategy   :   11,199,902.53\n",
      "Board   :   4,759,209.12\n",
      "Music   :   9,445,583.33\n",
      "Action;Action & Adventure   :   5,888,888.89\n",
      "Casual;Brain Games   :   1,425,916.67\n",
      "Educational;Creativity   :   2,333,333.33\n",
      "Puzzle;Brain Games   :   9,280,666.67\n",
      "Educational;Education   :   1,737,143.14\n",
      "Casual;Pretend Play   :   6,957,142.86\n",
      "Educational;Brain Games   :   4,433,333.33\n",
      "Art & Design;Pretend Play   :   500,000.00\n",
      "Educational;Pretend Play   :   9,375,000.00\n",
      "Entertainment;Education   :   1,000,000.00\n",
      "Casual;Education   :   1,000,000.00\n",
      "Casual;Creativity   :   5,333,333.33\n",
      "Casual;Action & Adventure   :   12,916,666.67\n",
      "Music;Music & Video   :   5,050,000.00\n",
      "Arcade;Pretend Play   :   1,000,000.00\n",
      "Adventure;Action & Adventure   :   35,333,333.33\n",
      "Role Playing;Action & Adventure   :   7,000,000.00\n",
      "Simulation;Pretend Play   :   550,000.00\n",
      "Puzzle;Creativity   :   750,000.00\n",
      "Simulation;Action & Adventure   :   4,857,142.86\n",
      "Racing;Action & Adventure   :   8,816,666.67\n",
      "Sports;Action & Adventure   :   5,050,000.00\n",
      "Educational;Action & Adventure   :   17,016,666.67\n",
      "Arcade;Action & Adventure   :   3,190,909.18\n",
      "Entertainment;Action & Adventure   :   2,333,333.33\n",
      "Art & Design;Action & Adventure   :   100,000.00\n",
      "Puzzle;Action & Adventure   :   18,366,666.67\n",
      "Education;Action & Adventure   :   1,000,000.00\n",
      "Strategy;Action & Adventure   :   1,000,000.00\n",
      "Music & Audio;Music & Video   :   500,000.00\n",
      "Health & Fitness;Education   :   100,000.00\n",
      "Board;Action & Adventure   :   3,000,000.00\n",
      "Board;Brain Games   :   407,142.86\n",
      "Casual;Music & Video   :   10,000,000.00\n",
      "Education;Music & Video   :   2,033,333.33\n",
      "Role Playing;Pretend Play   :   5,275,000.00\n",
      "Entertainment;Pretend Play   :   3,000,000.00\n",
      "Medical   :   120,550.62\n",
      "Social   :   23,253,652.13\n",
      "Shopping   :   7,036,877.31\n",
      "Photography   :   17,840,110.40\n",
      "Travel & Local   :   14,051,476.15\n",
      "Travel & Local;Action & Adventure   :   100,000.00\n",
      "Tools   :   10,802,461.25\n",
      "Tools;Education   :   10,000,000.00\n",
      "Personalization   :   5,201,482.61\n",
      "Productivity   :   16,787,331.34\n",
      "Parenting   :   467,977.50\n",
      "Parenting;Music & Video   :   1,118,333.33\n",
      "Parenting;Education   :   452,857.14\n",
      "Parenting;Brain Games   :   1,000,000.00\n",
      "Weather   :   5,074,486.20\n",
      "Video Players & Editors   :   24,947,335.80\n",
      "Video Players & Editors;Music & Video   :   7,500,000.00\n",
      "Video Players & Editors;Creativity   :   5,000,000.00\n",
      "News & Magazines   :   9,549,178.47\n",
      "Maps & Navigation   :   4,056,941.77\n",
      "Health & Fitness;Action & Adventure   :   1,000,000.00\n",
      "Educational   :   411,184.85\n",
      "Casino   :   3,427,910.53\n",
      "Trivia;Education   :   100.00\n",
      "Lifestyle;Education   :   100,000.00\n",
      "Card;Action & Adventure   :   10,000,000.00\n",
      "Books & Reference;Education   :   1,000.00\n",
      "Simulation;Education   :   500.00\n",
      "Puzzle;Education   :   100,000.00\n",
      "Adventure;Education   :   10,000,000.00\n",
      "Role Playing;Brain Games   :   10,000,000.00\n",
      "Strategy;Education   :   500,000.00\n",
      "Racing;Pretend Play   :   1,000,000.00\n",
      "Communication;Creativity   :   500,000.00\n",
      "February 11, 2018   :   0.00\n",
      "Strategy;Creativity   :   1,000,000.00\n"
     ]
    }
   ],
   "source": [
    "google_genre = {}\n",
    "google_genre = freq_table(google_Eng_Free_Apps,9)\n",
    "\n",
    "for i in google_genre:\n",
    "    total = 0\n",
    "    len_genre  = 0\n",
    "    for j in google_Eng_Free_Apps:   \n",
    "        if j[9] == i and j[5] != 'Free':\n",
    "            installs = j[5].replace(',','')\n",
    "            installs = installs.replace('+','')\n",
    "            total += float(installs) \n",
    "            len_genre += 1\n",
    "    if len_genre ==0:\n",
    "         len_genre = 1\n",
    "    \n",
    "    print(i,\"  :  \",f\"{round(total / len_genre,2):,.2f}\")     \n"
   ]
  }
 ],
 "metadata": {
  "kernelspec": {
   "display_name": "Python 3.9.4 64-bit",
   "language": "python",
   "name": "python3"
  },
  "language_info": {
   "codemirror_mode": {
    "name": "ipython",
    "version": 3
   },
   "file_extension": ".py",
   "mimetype": "text/x-python",
   "name": "python",
   "nbconvert_exporter": "python",
   "pygments_lexer": "ipython3",
   "version": "3.9.4"
  },
  "orig_nbformat": 4,
  "vscode": {
   "interpreter": {
    "hash": "7d4c06ce28245c944a909e071f539d5ba78557aab0ba45ceff955be2d973fce8"
   }
  }
 },
 "nbformat": 4,
 "nbformat_minor": 2
}
